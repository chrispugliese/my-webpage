{
 "cells": [
  {
   "cell_type": "code",
   "execution_count": 1,
   "metadata": {},
   "outputs": [],
   "source": [
    "import pandas as pd\n",
    "import numpy as np\n",
    "import matplotlib.pyplot as plt\n",
    "import seaborn as sns\n",
    "\n",
    "data = pd.read_csv('Titanic-Dataset.csv')\n",
    "\n",
    "# Histogram for ages of passengers who survived and those who did not\n",
    "plt.figure(figsize=(10, 6))\n",
    "sns.histplot(data[data['Survived'] == 1]['Age'].dropna(), label='Survived', color='blue', kde=True)\n",
    "sns.histplot(data[data['Survived'] == 0]['Age'].dropna(), label='Did Not Survive', color='red', kde=True)\n",
    "plt.legend()\n",
    "plt.title('Survived vs. Did Not Survive')\n",
    "plt.xlabel('Age')\n",
    "plt.ylabel('Frequency')\n",
    "plt.savefig('survival_histogram.png')  # Save the plot as an image\n",
    "plt.close()  # Close the plot to avoid overlap with the next one\n",
    "\n",
    "# Bar plot for comparing the survival rate by passenger class and gender\n",
    "plt.figure(figsize=(10, 6))\n",
    "sns.barplot(x='Pclass', y='Survived', hue='Sex', data=data)\n",
    "plt.title('Survival Rate by Passenger Class and Gender')\n",
    "plt.ylabel('Survival Rate')\n",
    "plt.savefig('survival_rate_by_class_gender.png')  # Save the plot as an image\n",
    "plt.close()\n",
    "\n",
    "# Scatter plot for age versus fare, color-coded by survival status\n",
    "plt.figure(figsize=(10, 6))\n",
    "sns.scatterplot(x='Age', y='Fare', hue='Survived', data=data, palette='coolwarm')\n",
    "plt.title('Age vs Fare: Survival Status')\n",
    "plt.xlabel('Age')\n",
    "plt.ylabel('Fare')\n",
    "plt.savefig('age_vs_fare.png')  # Save the plot as an image\n",
    "plt.close()\n"
   ]
  },
  {
   "cell_type": "code",
   "execution_count": null,
   "metadata": {},
   "outputs": [],
   "source": []
  }
 ],
 "metadata": {
  "kernelspec": {
   "display_name": "Python 3 (ipykernel)",
   "language": "python",
   "name": "python3"
  },
  "language_info": {
   "codemirror_mode": {
    "name": "ipython",
    "version": 3
   },
   "file_extension": ".py",
   "mimetype": "text/x-python",
   "name": "python",
   "nbconvert_exporter": "python",
   "pygments_lexer": "ipython3",
   "version": "3.12.6"
  }
 },
 "nbformat": 4,
 "nbformat_minor": 4
}
